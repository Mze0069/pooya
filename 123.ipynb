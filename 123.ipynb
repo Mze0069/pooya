{
 "cells": [
  {
   "cell_type": "code",
   "execution_count": null,
   "id": "620c383a",
   "metadata": {},
   "outputs": [],
   "source": [
    "a = 35"
   ]
  },
  {
   "cell_type": "code",
   "execution_count": null,
   "id": "1d3cf4ba",
   "metadata": {},
   "outputs": [],
   "source": [
    "b = 30"
   ]
  }
 ],
 "metadata": {
  "language_info": {
   "name": "python"
  }
 },
 "nbformat": 4,
 "nbformat_minor": 5
}
